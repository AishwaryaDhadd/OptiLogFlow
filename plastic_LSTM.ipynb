{
 "cells": [
  {
   "cell_type": "code",
   "execution_count": 1,
   "id": "46928c98",
   "metadata": {},
   "outputs": [],
   "source": [
    "import numpy as np\n",
    "from tensorflow.keras.models import Sequential\n",
    "from tensorflow.keras.layers import LSTM\n",
    "from tensorflow.keras.layers import Dense, Dropout\n",
    "import pandas as pd\n",
    "from matplotlib import pyplot as plt\n",
    "from sklearn.preprocessing import StandardScaler\n",
    "import seaborn as sns\n"
   ]
  },
  {
   "cell_type": "code",
   "execution_count": 2,
   "id": "8dc974bb",
   "metadata": {},
   "outputs": [
    {
     "name": "stdout",
     "output_type": "stream",
     "text": [
      "<class 'pandas.core.frame.DataFrame'>\n",
      "RangeIndex: 8504 entries, 0 to 8503\n",
      "Data columns (total 50 columns):\n",
      " #   Column                      Non-Null Count  Dtype         \n",
      "---  ------                      --------------  -----         \n",
      " 0   DOCNUM                      8504 non-null   object        \n",
      " 1   POSTING DATE                8504 non-null   datetime64[ns]\n",
      " 2   EFFECTIVE DATE              8504 non-null   datetime64[ns]\n",
      " 3   CREATE DATE                 8504 non-null   datetime64[ns]\n",
      " 4   TRANSFER IN EFFECTIVE DATE  0 non-null      float64       \n",
      " 5   Customer/Vendor Code        8504 non-null   int64         \n",
      " 6   Customer/Vendor Name        8504 non-null   object        \n",
      " 7   LOB                         8504 non-null   object        \n",
      " 8   Region                      8504 non-null   object        \n",
      " 9   BP TYPE                     8504 non-null   object        \n",
      " 10  City                        8501 non-null   object        \n",
      " 11  STATE                       8501 non-null   object        \n",
      " 12  From WhsCode                8504 non-null   object        \n",
      " 13  From WhsName                8504 non-null   object        \n",
      " 14  To whsCode                  8504 non-null   int64         \n",
      " 15  TO WhsName                  8504 non-null   object        \n",
      " 16  Model TYPE                  8504 non-null   object        \n",
      " 17  Transfer Type               8504 non-null   object        \n",
      " 18  U_Frt                       8414 non-null   float64       \n",
      " 19  U_ActShipType               8504 non-null   object        \n",
      " 20  PRODUCT CATEGORY            8504 non-null   object        \n",
      " 21  ItemCode                    8504 non-null   object        \n",
      " 22  Description                 8504 non-null   object        \n",
      " 23  Quarantine Item COde        0 non-null      float64       \n",
      " 24  QUANTITY                    8504 non-null   int64         \n",
      " 25  UNIT                        8500 non-null   object        \n",
      " 26  RATE                        8504 non-null   int64         \n",
      " 27  SO ID                       8504 non-null   object        \n",
      " 28  SO Creation Date            8504 non-null   datetime64[ns]\n",
      " 29  SO Due Date                 8504 non-null   datetime64[ns]\n",
      " 30  U_DocStatus                 8504 non-null   object        \n",
      " 31  NumAtCard                   0 non-null      float64       \n",
      " 32  U_SOTYPE                    8475 non-null   object        \n",
      " 33  BP CATEGORY                 8504 non-null   object        \n",
      " 34  Document Type               8504 non-null   object        \n",
      " 35  TRANSPORTER NAME            8504 non-null   object        \n",
      " 36  Vehicle Type                8504 non-null   object        \n",
      " 37  Direct Dispatch             8504 non-null   object        \n",
      " 38  Customer Invoice No         0 non-null      float64       \n",
      " 39  U_GRNNO                     8 non-null      float64       \n",
      " 40  Loading/Unloading           6446 non-null   float64       \n",
      " 41  Detention                   3916 non-null   float64       \n",
      " 42  Business Heads              8504 non-null   object        \n",
      " 43  KITITEM                     8435 non-null   object        \n",
      " 44  U_AssetClass                8504 non-null   object        \n",
      " 45  Customer Type               8496 non-null   object        \n",
      " 46  U_TRINPD                    5483 non-null   object        \n",
      " 47  FlowName                    8504 non-null   object        \n",
      " 48  POReference                 0 non-null      float64       \n",
      " 49  Unnamed: 49                 8504 non-null   object        \n",
      "dtypes: datetime64[ns](5), float64(9), int64(4), object(32)\n",
      "memory usage: 3.2+ MB\n"
     ]
    }
   ],
   "source": [
    "plastic = pd.read_excel(r\"C:\\Users\\aishw\\Desktop\\PROJECT\\AISH_PLASTIC.xlsx\")\n",
    "plastic.info()"
   ]
  },
  {
   "cell_type": "code",
   "execution_count": 3,
   "id": "5640596a",
   "metadata": {},
   "outputs": [],
   "source": [
    "plastic1 = plastic[['EFFECTIVE DATE', 'Customer/Vendor Name', 'Region', 'STATE', 'City', 'From WhsName','QUANTITY']]"
   ]
  },
  {
   "cell_type": "code",
   "execution_count": 4,
   "id": "3c4a1dca",
   "metadata": {},
   "outputs": [
    {
     "data": {
      "text/html": [
       "<div>\n",
       "<style scoped>\n",
       "    .dataframe tbody tr th:only-of-type {\n",
       "        vertical-align: middle;\n",
       "    }\n",
       "\n",
       "    .dataframe tbody tr th {\n",
       "        vertical-align: top;\n",
       "    }\n",
       "\n",
       "    .dataframe thead th {\n",
       "        text-align: right;\n",
       "    }\n",
       "</style>\n",
       "<table border=\"1\" class=\"dataframe\">\n",
       "  <thead>\n",
       "    <tr style=\"text-align: right;\">\n",
       "      <th></th>\n",
       "      <th>EFFECTIVE DATE</th>\n",
       "      <th>Customer/Vendor Name</th>\n",
       "      <th>Region</th>\n",
       "      <th>STATE</th>\n",
       "      <th>City</th>\n",
       "      <th>From WhsName</th>\n",
       "      <th>QUANTITY</th>\n",
       "    </tr>\n",
       "  </thead>\n",
       "  <tbody>\n",
       "    <tr>\n",
       "      <th>0</th>\n",
       "      <td>2021-11-01</td>\n",
       "      <td>LUACT PVT LTD_Pondi _ Puducherry</td>\n",
       "      <td>South</td>\n",
       "      <td>Pondicherry</td>\n",
       "      <td>Pondicherry</td>\n",
       "      <td>branch_Chennai</td>\n",
       "      <td>39</td>\n",
       "    </tr>\n",
       "    <tr>\n",
       "      <th>1</th>\n",
       "      <td>2021-11-01</td>\n",
       "      <td>LUACT PVT LTD_Pondi _ Puducherry</td>\n",
       "      <td>South</td>\n",
       "      <td>Pondicherry</td>\n",
       "      <td>Pondicherry</td>\n",
       "      <td>branch_Chennai</td>\n",
       "      <td>10</td>\n",
       "    </tr>\n",
       "    <tr>\n",
       "      <th>2</th>\n",
       "      <td>2021-11-01</td>\n",
       "      <td>BRAC PRIVATE LIMITED</td>\n",
       "      <td>South</td>\n",
       "      <td>Tamil Nadu</td>\n",
       "      <td>Chennai</td>\n",
       "      <td>branch_Chennai</td>\n",
       "      <td>15</td>\n",
       "    </tr>\n",
       "    <tr>\n",
       "      <th>3</th>\n",
       "      <td>2021-11-01</td>\n",
       "      <td>TURBINE PVT LTD _ Vellore</td>\n",
       "      <td>South</td>\n",
       "      <td>Tamil Nadu</td>\n",
       "      <td>Vellore</td>\n",
       "      <td>branch_Chennai</td>\n",
       "      <td>5</td>\n",
       "    </tr>\n",
       "    <tr>\n",
       "      <th>4</th>\n",
       "      <td>2021-11-01</td>\n",
       "      <td>TURBINE PVT LTD _ Vellore_2</td>\n",
       "      <td>South</td>\n",
       "      <td>Tamil Nadu</td>\n",
       "      <td>Vellore</td>\n",
       "      <td>branch_Chennai</td>\n",
       "      <td>10</td>\n",
       "    </tr>\n",
       "    <tr>\n",
       "      <th>...</th>\n",
       "      <td>...</td>\n",
       "      <td>...</td>\n",
       "      <td>...</td>\n",
       "      <td>...</td>\n",
       "      <td>...</td>\n",
       "      <td>...</td>\n",
       "      <td>...</td>\n",
       "    </tr>\n",
       "    <tr>\n",
       "      <th>8499</th>\n",
       "      <td>2022-10-31</td>\n",
       "      <td>BRAC PRIVATE LIMITED</td>\n",
       "      <td>South</td>\n",
       "      <td>Tamil Nadu</td>\n",
       "      <td>Chennai</td>\n",
       "      <td>branch_Chennai</td>\n",
       "      <td>5</td>\n",
       "    </tr>\n",
       "    <tr>\n",
       "      <th>8500</th>\n",
       "      <td>2022-10-31</td>\n",
       "      <td>Maha AM Ltd _Nagpur</td>\n",
       "      <td>West</td>\n",
       "      <td>Maharashtra</td>\n",
       "      <td>Nagpur</td>\n",
       "      <td>branch_Nagpur</td>\n",
       "      <td>2</td>\n",
       "    </tr>\n",
       "    <tr>\n",
       "      <th>8501</th>\n",
       "      <td>2022-10-31</td>\n",
       "      <td>Vibrate Pvt Ltd _ Noida</td>\n",
       "      <td>North</td>\n",
       "      <td>Uttar Pradesh</td>\n",
       "      <td>Noida</td>\n",
       "      <td>branch_Pataudi Gadaipur</td>\n",
       "      <td>7</td>\n",
       "    </tr>\n",
       "    <tr>\n",
       "      <th>8502</th>\n",
       "      <td>2022-10-31</td>\n",
       "      <td>MT INDUSTRIES PVT LTD. UNIT_ II _ AURANGABAD</td>\n",
       "      <td>West</td>\n",
       "      <td>Maharashtra</td>\n",
       "      <td>Aurangabad</td>\n",
       "      <td>branch_pune</td>\n",
       "      <td>5</td>\n",
       "    </tr>\n",
       "    <tr>\n",
       "      <th>8503</th>\n",
       "      <td>2022-10-31</td>\n",
       "      <td>MT INDUSTRIES PVT LTD. UNIT_ II _ AURANGABAD</td>\n",
       "      <td>West</td>\n",
       "      <td>Maharashtra</td>\n",
       "      <td>Aurangabad</td>\n",
       "      <td>branch_pune</td>\n",
       "      <td>16</td>\n",
       "    </tr>\n",
       "  </tbody>\n",
       "</table>\n",
       "<p>8504 rows × 7 columns</p>\n",
       "</div>"
      ],
      "text/plain": [
       "     EFFECTIVE DATE                          Customer/Vendor Name Region  \\\n",
       "0        2021-11-01              LUACT PVT LTD_Pondi _ Puducherry  South   \n",
       "1        2021-11-01              LUACT PVT LTD_Pondi _ Puducherry  South   \n",
       "2        2021-11-01                         BRAC PRIVATE LIMITED   South   \n",
       "3        2021-11-01                     TURBINE PVT LTD _ Vellore  South   \n",
       "4        2021-11-01                   TURBINE PVT LTD _ Vellore_2  South   \n",
       "...             ...                                           ...    ...   \n",
       "8499     2022-10-31                         BRAC PRIVATE LIMITED   South   \n",
       "8500     2022-10-31                           Maha AM Ltd _Nagpur   West   \n",
       "8501     2022-10-31                       Vibrate Pvt Ltd _ Noida  North   \n",
       "8502     2022-10-31  MT INDUSTRIES PVT LTD. UNIT_ II _ AURANGABAD   West   \n",
       "8503     2022-10-31  MT INDUSTRIES PVT LTD. UNIT_ II _ AURANGABAD   West   \n",
       "\n",
       "              STATE         City             From WhsName  QUANTITY  \n",
       "0       Pondicherry  Pondicherry           branch_Chennai        39  \n",
       "1       Pondicherry  Pondicherry           branch_Chennai        10  \n",
       "2        Tamil Nadu      Chennai           branch_Chennai        15  \n",
       "3        Tamil Nadu      Vellore           branch_Chennai         5  \n",
       "4        Tamil Nadu      Vellore           branch_Chennai        10  \n",
       "...             ...          ...                      ...       ...  \n",
       "8499     Tamil Nadu      Chennai           branch_Chennai         5  \n",
       "8500    Maharashtra       Nagpur            branch_Nagpur         2  \n",
       "8501  Uttar Pradesh        Noida  branch_Pataudi Gadaipur         7  \n",
       "8502    Maharashtra   Aurangabad              branch_pune         5  \n",
       "8503    Maharashtra   Aurangabad              branch_pune        16  \n",
       "\n",
       "[8504 rows x 7 columns]"
      ]
     },
     "execution_count": 4,
     "metadata": {},
     "output_type": "execute_result"
    }
   ],
   "source": [
    "plastic1"
   ]
  },
  {
   "cell_type": "code",
   "execution_count": 5,
   "id": "5e2d2971",
   "metadata": {},
   "outputs": [
    {
     "data": {
      "text/plain": [
       "EFFECTIVE DATE          0\n",
       "Customer/Vendor Name    0\n",
       "Region                  0\n",
       "STATE                   3\n",
       "City                    3\n",
       "From WhsName            0\n",
       "QUANTITY                0\n",
       "dtype: int64"
      ]
     },
     "execution_count": 5,
     "metadata": {},
     "output_type": "execute_result"
    }
   ],
   "source": [
    "plastic1.isna().sum()"
   ]
  },
  {
   "cell_type": "code",
   "execution_count": 6,
   "id": "6a5bd0ae",
   "metadata": {},
   "outputs": [],
   "source": [
    "plastic1 = plastic1.dropna()"
   ]
  },
  {
   "cell_type": "code",
   "execution_count": 7,
   "id": "520a897c",
   "metadata": {},
   "outputs": [
    {
     "data": {
      "text/html": [
       "<div>\n",
       "<style scoped>\n",
       "    .dataframe tbody tr th:only-of-type {\n",
       "        vertical-align: middle;\n",
       "    }\n",
       "\n",
       "    .dataframe tbody tr th {\n",
       "        vertical-align: top;\n",
       "    }\n",
       "\n",
       "    .dataframe thead th {\n",
       "        text-align: right;\n",
       "    }\n",
       "</style>\n",
       "<table border=\"1\" class=\"dataframe\">\n",
       "  <thead>\n",
       "    <tr style=\"text-align: right;\">\n",
       "      <th></th>\n",
       "      <th>EFFECTIVE DATE</th>\n",
       "      <th>Customer/Vendor Name</th>\n",
       "      <th>Region</th>\n",
       "      <th>STATE</th>\n",
       "      <th>City</th>\n",
       "      <th>From WhsName</th>\n",
       "      <th>QUANTITY</th>\n",
       "    </tr>\n",
       "  </thead>\n",
       "  <tbody>\n",
       "    <tr>\n",
       "      <th>0</th>\n",
       "      <td>2021-11-01</td>\n",
       "      <td>LUACT PVT LTD_Pondi _ Puducherry</td>\n",
       "      <td>South</td>\n",
       "      <td>Pondicherry</td>\n",
       "      <td>Pondicherry</td>\n",
       "      <td>branch_Chennai</td>\n",
       "      <td>39</td>\n",
       "    </tr>\n",
       "    <tr>\n",
       "      <th>1</th>\n",
       "      <td>2021-11-01</td>\n",
       "      <td>LUACT PVT LTD_Pondi _ Puducherry</td>\n",
       "      <td>South</td>\n",
       "      <td>Pondicherry</td>\n",
       "      <td>Pondicherry</td>\n",
       "      <td>branch_Chennai</td>\n",
       "      <td>10</td>\n",
       "    </tr>\n",
       "    <tr>\n",
       "      <th>2</th>\n",
       "      <td>2021-11-01</td>\n",
       "      <td>BRAC PRIVATE LIMITED</td>\n",
       "      <td>South</td>\n",
       "      <td>Tamil Nadu</td>\n",
       "      <td>Chennai</td>\n",
       "      <td>branch_Chennai</td>\n",
       "      <td>15</td>\n",
       "    </tr>\n",
       "    <tr>\n",
       "      <th>3</th>\n",
       "      <td>2021-11-01</td>\n",
       "      <td>TURBINE PVT LTD _ Vellore</td>\n",
       "      <td>South</td>\n",
       "      <td>Tamil Nadu</td>\n",
       "      <td>Vellore</td>\n",
       "      <td>branch_Chennai</td>\n",
       "      <td>5</td>\n",
       "    </tr>\n",
       "    <tr>\n",
       "      <th>4</th>\n",
       "      <td>2021-11-01</td>\n",
       "      <td>TURBINE PVT LTD _ Vellore_2</td>\n",
       "      <td>South</td>\n",
       "      <td>Tamil Nadu</td>\n",
       "      <td>Vellore</td>\n",
       "      <td>branch_Chennai</td>\n",
       "      <td>10</td>\n",
       "    </tr>\n",
       "    <tr>\n",
       "      <th>...</th>\n",
       "      <td>...</td>\n",
       "      <td>...</td>\n",
       "      <td>...</td>\n",
       "      <td>...</td>\n",
       "      <td>...</td>\n",
       "      <td>...</td>\n",
       "      <td>...</td>\n",
       "    </tr>\n",
       "    <tr>\n",
       "      <th>8499</th>\n",
       "      <td>2022-10-31</td>\n",
       "      <td>BRAC PRIVATE LIMITED</td>\n",
       "      <td>South</td>\n",
       "      <td>Tamil Nadu</td>\n",
       "      <td>Chennai</td>\n",
       "      <td>branch_Chennai</td>\n",
       "      <td>5</td>\n",
       "    </tr>\n",
       "    <tr>\n",
       "      <th>8500</th>\n",
       "      <td>2022-10-31</td>\n",
       "      <td>Maha AM Ltd _Nagpur</td>\n",
       "      <td>West</td>\n",
       "      <td>Maharashtra</td>\n",
       "      <td>Nagpur</td>\n",
       "      <td>branch_Nagpur</td>\n",
       "      <td>2</td>\n",
       "    </tr>\n",
       "    <tr>\n",
       "      <th>8501</th>\n",
       "      <td>2022-10-31</td>\n",
       "      <td>Vibrate Pvt Ltd _ Noida</td>\n",
       "      <td>North</td>\n",
       "      <td>Uttar Pradesh</td>\n",
       "      <td>Noida</td>\n",
       "      <td>branch_Pataudi Gadaipur</td>\n",
       "      <td>7</td>\n",
       "    </tr>\n",
       "    <tr>\n",
       "      <th>8502</th>\n",
       "      <td>2022-10-31</td>\n",
       "      <td>MT INDUSTRIES PVT LTD. UNIT_ II _ AURANGABAD</td>\n",
       "      <td>West</td>\n",
       "      <td>Maharashtra</td>\n",
       "      <td>Aurangabad</td>\n",
       "      <td>branch_pune</td>\n",
       "      <td>5</td>\n",
       "    </tr>\n",
       "    <tr>\n",
       "      <th>8503</th>\n",
       "      <td>2022-10-31</td>\n",
       "      <td>MT INDUSTRIES PVT LTD. UNIT_ II _ AURANGABAD</td>\n",
       "      <td>West</td>\n",
       "      <td>Maharashtra</td>\n",
       "      <td>Aurangabad</td>\n",
       "      <td>branch_pune</td>\n",
       "      <td>16</td>\n",
       "    </tr>\n",
       "  </tbody>\n",
       "</table>\n",
       "<p>8501 rows × 7 columns</p>\n",
       "</div>"
      ],
      "text/plain": [
       "     EFFECTIVE DATE                          Customer/Vendor Name Region  \\\n",
       "0        2021-11-01              LUACT PVT LTD_Pondi _ Puducherry  South   \n",
       "1        2021-11-01              LUACT PVT LTD_Pondi _ Puducherry  South   \n",
       "2        2021-11-01                         BRAC PRIVATE LIMITED   South   \n",
       "3        2021-11-01                     TURBINE PVT LTD _ Vellore  South   \n",
       "4        2021-11-01                   TURBINE PVT LTD _ Vellore_2  South   \n",
       "...             ...                                           ...    ...   \n",
       "8499     2022-10-31                         BRAC PRIVATE LIMITED   South   \n",
       "8500     2022-10-31                           Maha AM Ltd _Nagpur   West   \n",
       "8501     2022-10-31                       Vibrate Pvt Ltd _ Noida  North   \n",
       "8502     2022-10-31  MT INDUSTRIES PVT LTD. UNIT_ II _ AURANGABAD   West   \n",
       "8503     2022-10-31  MT INDUSTRIES PVT LTD. UNIT_ II _ AURANGABAD   West   \n",
       "\n",
       "              STATE         City             From WhsName  QUANTITY  \n",
       "0       Pondicherry  Pondicherry           branch_Chennai        39  \n",
       "1       Pondicherry  Pondicherry           branch_Chennai        10  \n",
       "2        Tamil Nadu      Chennai           branch_Chennai        15  \n",
       "3        Tamil Nadu      Vellore           branch_Chennai         5  \n",
       "4        Tamil Nadu      Vellore           branch_Chennai        10  \n",
       "...             ...          ...                      ...       ...  \n",
       "8499     Tamil Nadu      Chennai           branch_Chennai         5  \n",
       "8500    Maharashtra       Nagpur            branch_Nagpur         2  \n",
       "8501  Uttar Pradesh        Noida  branch_Pataudi Gadaipur         7  \n",
       "8502    Maharashtra   Aurangabad              branch_pune         5  \n",
       "8503    Maharashtra   Aurangabad              branch_pune        16  \n",
       "\n",
       "[8501 rows x 7 columns]"
      ]
     },
     "execution_count": 7,
     "metadata": {},
     "output_type": "execute_result"
    }
   ],
   "source": [
    "plastic1"
   ]
  },
  {
   "cell_type": "code",
   "execution_count": 8,
   "id": "08db624f",
   "metadata": {},
   "outputs": [
    {
     "data": {
      "text/plain": [
       "EFFECTIVE DATE          0\n",
       "Customer/Vendor Name    0\n",
       "Region                  0\n",
       "STATE                   0\n",
       "City                    0\n",
       "From WhsName            0\n",
       "QUANTITY                0\n",
       "dtype: int64"
      ]
     },
     "execution_count": 8,
     "metadata": {},
     "output_type": "execute_result"
    }
   ],
   "source": [
    "plastic1.isna().sum()"
   ]
  },
  {
   "cell_type": "code",
   "execution_count": 9,
   "id": "aa7e778b",
   "metadata": {},
   "outputs": [
    {
     "name": "stdout",
     "output_type": "stream",
     "text": [
      "<class 'pandas.core.frame.DataFrame'>\n",
      "Int64Index: 8501 entries, 0 to 8503\n",
      "Data columns (total 7 columns):\n",
      " #   Column                Non-Null Count  Dtype         \n",
      "---  ------                --------------  -----         \n",
      " 0   EFFECTIVE DATE        8501 non-null   datetime64[ns]\n",
      " 1   Customer/Vendor Name  8501 non-null   object        \n",
      " 2   Region                8501 non-null   object        \n",
      " 3   STATE                 8501 non-null   object        \n",
      " 4   City                  8501 non-null   object        \n",
      " 5   From WhsName          8501 non-null   object        \n",
      " 6   QUANTITY              8501 non-null   int64         \n",
      "dtypes: datetime64[ns](1), int64(1), object(5)\n",
      "memory usage: 531.3+ KB\n"
     ]
    }
   ],
   "source": [
    "plastic1.info()"
   ]
  },
  {
   "cell_type": "code",
   "execution_count": 10,
   "id": "6b63dcd1",
   "metadata": {},
   "outputs": [],
   "source": [
    "#plastic1 = plastic1.convert_dtypes()"
   ]
  },
  {
   "cell_type": "code",
   "execution_count": 11,
   "id": "61037e54",
   "metadata": {},
   "outputs": [],
   "source": [
    "#plastic1.info()"
   ]
  },
  {
   "cell_type": "code",
   "execution_count": 12,
   "id": "bf56ede3",
   "metadata": {},
   "outputs": [],
   "source": [
    "from sklearn.preprocessing import LabelEncoder\n",
    "label_encoder = LabelEncoder()"
   ]
  },
  {
   "cell_type": "code",
   "execution_count": 13,
   "id": "01889e9a",
   "metadata": {},
   "outputs": [
    {
     "name": "stderr",
     "output_type": "stream",
     "text": [
      "C:\\Users\\aishw\\AppData\\Local\\Temp\\ipykernel_8620\\3417158337.py:1: SettingWithCopyWarning: \n",
      "A value is trying to be set on a copy of a slice from a DataFrame.\n",
      "Try using .loc[row_indexer,col_indexer] = value instead\n",
      "\n",
      "See the caveats in the documentation: https://pandas.pydata.org/pandas-docs/stable/user_guide/indexing.html#returning-a-view-versus-a-copy\n",
      "  plastic1['Customer/Vendor Name']= label_encoder.fit_transform(plastic1['Customer/Vendor Name'])\n",
      "C:\\Users\\aishw\\AppData\\Local\\Temp\\ipykernel_8620\\3417158337.py:2: SettingWithCopyWarning: \n",
      "A value is trying to be set on a copy of a slice from a DataFrame.\n",
      "Try using .loc[row_indexer,col_indexer] = value instead\n",
      "\n",
      "See the caveats in the documentation: https://pandas.pydata.org/pandas-docs/stable/user_guide/indexing.html#returning-a-view-versus-a-copy\n",
      "  plastic1['Region']= label_encoder.fit_transform(plastic1['Region'])\n",
      "C:\\Users\\aishw\\AppData\\Local\\Temp\\ipykernel_8620\\3417158337.py:3: SettingWithCopyWarning: \n",
      "A value is trying to be set on a copy of a slice from a DataFrame.\n",
      "Try using .loc[row_indexer,col_indexer] = value instead\n",
      "\n",
      "See the caveats in the documentation: https://pandas.pydata.org/pandas-docs/stable/user_guide/indexing.html#returning-a-view-versus-a-copy\n",
      "  plastic1['STATE']= label_encoder.fit_transform(plastic1['STATE'])\n",
      "C:\\Users\\aishw\\AppData\\Local\\Temp\\ipykernel_8620\\3417158337.py:4: SettingWithCopyWarning: \n",
      "A value is trying to be set on a copy of a slice from a DataFrame.\n",
      "Try using .loc[row_indexer,col_indexer] = value instead\n",
      "\n",
      "See the caveats in the documentation: https://pandas.pydata.org/pandas-docs/stable/user_guide/indexing.html#returning-a-view-versus-a-copy\n",
      "  plastic1['City']= label_encoder.fit_transform(plastic1['City'])\n",
      "C:\\Users\\aishw\\AppData\\Local\\Temp\\ipykernel_8620\\3417158337.py:5: SettingWithCopyWarning: \n",
      "A value is trying to be set on a copy of a slice from a DataFrame.\n",
      "Try using .loc[row_indexer,col_indexer] = value instead\n",
      "\n",
      "See the caveats in the documentation: https://pandas.pydata.org/pandas-docs/stable/user_guide/indexing.html#returning-a-view-versus-a-copy\n",
      "  plastic1['From WhsName']= label_encoder.fit_transform(plastic1['From WhsName'])\n"
     ]
    }
   ],
   "source": [
    "plastic1['Customer/Vendor Name']= label_encoder.fit_transform(plastic1['Customer/Vendor Name'])\n",
    "plastic1['Region']= label_encoder.fit_transform(plastic1['Region'])\n",
    "plastic1['STATE']= label_encoder.fit_transform(plastic1['STATE'])\n",
    "plastic1['City']= label_encoder.fit_transform(plastic1['City'])\n",
    "plastic1['From WhsName']= label_encoder.fit_transform(plastic1['From WhsName'])"
   ]
  },
  {
   "cell_type": "code",
   "execution_count": 14,
   "id": "893bb9e3",
   "metadata": {},
   "outputs": [
    {
     "data": {
      "text/html": [
       "<div>\n",
       "<style scoped>\n",
       "    .dataframe tbody tr th:only-of-type {\n",
       "        vertical-align: middle;\n",
       "    }\n",
       "\n",
       "    .dataframe tbody tr th {\n",
       "        vertical-align: top;\n",
       "    }\n",
       "\n",
       "    .dataframe thead th {\n",
       "        text-align: right;\n",
       "    }\n",
       "</style>\n",
       "<table border=\"1\" class=\"dataframe\">\n",
       "  <thead>\n",
       "    <tr style=\"text-align: right;\">\n",
       "      <th></th>\n",
       "      <th>EFFECTIVE DATE</th>\n",
       "      <th>Customer/Vendor Name</th>\n",
       "      <th>Region</th>\n",
       "      <th>STATE</th>\n",
       "      <th>City</th>\n",
       "      <th>From WhsName</th>\n",
       "      <th>QUANTITY</th>\n",
       "    </tr>\n",
       "  </thead>\n",
       "  <tbody>\n",
       "    <tr>\n",
       "      <th>0</th>\n",
       "      <td>2021-11-01</td>\n",
       "      <td>37</td>\n",
       "      <td>1</td>\n",
       "      <td>6</td>\n",
       "      <td>27</td>\n",
       "      <td>3</td>\n",
       "      <td>39</td>\n",
       "    </tr>\n",
       "    <tr>\n",
       "      <th>1</th>\n",
       "      <td>2021-11-01</td>\n",
       "      <td>37</td>\n",
       "      <td>1</td>\n",
       "      <td>6</td>\n",
       "      <td>27</td>\n",
       "      <td>3</td>\n",
       "      <td>10</td>\n",
       "    </tr>\n",
       "    <tr>\n",
       "      <th>2</th>\n",
       "      <td>2021-11-01</td>\n",
       "      <td>8</td>\n",
       "      <td>1</td>\n",
       "      <td>9</td>\n",
       "      <td>4</td>\n",
       "      <td>3</td>\n",
       "      <td>15</td>\n",
       "    </tr>\n",
       "    <tr>\n",
       "      <th>3</th>\n",
       "      <td>2021-11-01</td>\n",
       "      <td>75</td>\n",
       "      <td>1</td>\n",
       "      <td>9</td>\n",
       "      <td>35</td>\n",
       "      <td>3</td>\n",
       "      <td>5</td>\n",
       "    </tr>\n",
       "    <tr>\n",
       "      <th>4</th>\n",
       "      <td>2021-11-01</td>\n",
       "      <td>76</td>\n",
       "      <td>1</td>\n",
       "      <td>9</td>\n",
       "      <td>35</td>\n",
       "      <td>3</td>\n",
       "      <td>10</td>\n",
       "    </tr>\n",
       "  </tbody>\n",
       "</table>\n",
       "</div>"
      ],
      "text/plain": [
       "  EFFECTIVE DATE  Customer/Vendor Name  Region  STATE  City  From WhsName  \\\n",
       "0     2021-11-01                    37       1      6    27             3   \n",
       "1     2021-11-01                    37       1      6    27             3   \n",
       "2     2021-11-01                     8       1      9     4             3   \n",
       "3     2021-11-01                    75       1      9    35             3   \n",
       "4     2021-11-01                    76       1      9    35             3   \n",
       "\n",
       "   QUANTITY  \n",
       "0        39  \n",
       "1        10  \n",
       "2        15  \n",
       "3         5  \n",
       "4        10  "
      ]
     },
     "execution_count": 14,
     "metadata": {},
     "output_type": "execute_result"
    }
   ],
   "source": [
    "plastic1.head()"
   ]
  },
  {
   "cell_type": "code",
   "execution_count": 15,
   "id": "171a1389",
   "metadata": {},
   "outputs": [],
   "source": [
    "import ThymeBoost as tb\n",
    "import sklearn as sk"
   ]
  },
  {
   "cell_type": "code",
   "execution_count": 16,
   "id": "f1d2bf70",
   "metadata": {},
   "outputs": [],
   "source": [
    "#outlier treatment\n",
    "from ThymeBoost import ThymeBoost as tb\n",
    "boosted_model = tb.ThymeBoost()\n"
   ]
  },
  {
   "cell_type": "code",
   "execution_count": 17,
   "id": "3ee3a61a",
   "metadata": {},
   "outputs": [],
   "source": [
    "output = boosted_model.detect_outliers(plastic1['QUANTITY'],\n",
    "                                       trend_estimator='linear',\n",
    "                                       seasonal_estimator='fourier',\n",
    "                                       seasonal_period=15,\n",
    "                                       global_cost='maicc',\n",
    "                                       fit_type='global')"
   ]
  },
  {
   "cell_type": "code",
   "execution_count": 18,
   "id": "31bac30b",
   "metadata": {},
   "outputs": [
    {
     "data": {
      "image/png": "[encoded data removed]",
      "text/plain": [
       "<Figure size 640x480 with 1 Axes>"
      ]
     },
     "metadata": {},
     "output_type": "display_data"
    },
    {
     "data": {
      "image/png": "[encoded data removed]",
      "text/plain": [
       "<Figure size 640x480 with 3 Axes>"
      ]
     },
     "metadata": {},
     "output_type": "display_data"
    }
   ],
   "source": [
    "boosted_model.plot_results(output)\n",
    "boosted_model.plot_components(output)\n"
   ]
  },
  {
   "cell_type": "code",
   "execution_count": 19,
   "id": "9c8f3040",
   "metadata": {},
   "outputs": [],
   "source": [
    "#Handling Outliers Using the Regularize Argument\n",
    "\n",
    "\n",
    "output_r = boosted_model.fit(plastic1['QUANTITY'],\n",
    "                           trend_estimator='linear',\n",
    "                           seasonal_estimator='fourier',\n",
    "                           seasonal_period=15,\n",
    "                           global_cost='maicc',\n",
    "                           fit_type='global',\n",
    "                           seasonality_weights='regularize')\n"
   ]
  },
  {
   "cell_type": "code",
   "execution_count": 20,
   "id": "6df624e3",
   "metadata": {},
   "outputs": [
    {
     "data": {
      "image/png": "[encoded data removed]",
      "text/plain": [
       "<Figure size 640x480 with 1 Axes>"
      ]
     },
     "metadata": {},
     "output_type": "display_data"
    },
    {
     "data": {
      "image/png": "[encoded data removed]",
      "text/plain": [
       "<Figure size 640x480 with 3 Axes>"
      ]
     },
     "metadata": {},
     "output_type": "display_data"
    }
   ],
   "source": [
    "boosted_model.plot_results(output)\n",
    "\n",
    "boosted_model.plot_components(output)"
   ]
  },
  {
   "cell_type": "code",
   "execution_count": 21,
   "id": "0cb0df4c",
   "metadata": {},
   "outputs": [
    {
     "data": {
      "text/plain": [
       "19.12832884422416"
      ]
     },
     "execution_count": 21,
     "metadata": {},
     "output_type": "execute_result"
    }
   ],
   "source": [
    "rmse_r = np.sqrt(np.mean((np.array(output_r['y'])-np.array(output_r['yhat']))**2))\n",
    "rmse_r"
   ]
  },
  {
   "cell_type": "code",
   "execution_count": 22,
   "id": "0d8f5773",
   "metadata": {},
   "outputs": [],
   "source": [
    "###weight\n",
    "weights = np.invert(output['outliers'].values) * 1"
   ]
  },
  {
   "cell_type": "code",
   "execution_count": 23,
   "id": "b7e0c06a",
   "metadata": {},
   "outputs": [],
   "source": [
    "output_w = boosted_model.fit(plastic1['QUANTITY'],\n",
    "                           trend_estimator='linear',\n",
    "                           seasonal_estimator='fourier',\n",
    "                           seasonal_period=15,\n",
    "                           global_cost='maicc',\n",
    "                           fit_type='global',\n",
    "                           seasonality_weights=weights)\n"
   ]
  },
  {
   "cell_type": "code",
   "execution_count": 24,
   "id": "ffedc060",
   "metadata": {},
   "outputs": [
    {
     "data": {
      "image/png": "[encoded data removed]",
      "text/plain": [
       "<Figure size 640x480 with 1 Axes>"
      ]
     },
     "metadata": {},
     "output_type": "display_data"
    },
    {
     "data": {
      "image/png": "[encoded data removed]",
      "text/plain": [
       "<Figure size 640x480 with 3 Axes>"
      ]
     },
     "metadata": {},
     "output_type": "display_data"
    }
   ],
   "source": [
    "boosted_model.plot_results(output_w)\n",
    "boosted_model.plot_components(output_w)"
   ]
  },
  {
   "cell_type": "code",
   "execution_count": 25,
   "id": "2001a9ca",
   "metadata": {},
   "outputs": [
    {
     "data": {
      "text/plain": [
       "19.11734224949377"
      ]
     },
     "execution_count": 25,
     "metadata": {},
     "output_type": "execute_result"
    }
   ],
   "source": [
    "rmse_w = np.sqrt(np.mean((np.array(output_w['y'])-np.array(output_w['yhat']))**2))\n",
    "rmse_w"
   ]
  },
  {
   "cell_type": "code",
   "execution_count": 26,
   "id": "29704afc",
   "metadata": {},
   "outputs": [],
   "source": [
    "plastic1 = plastic1.drop(\"QUANTITY\",axis=1)"
   ]
  },
  {
   "cell_type": "code",
   "execution_count": 27,
   "id": "bfb68fff",
   "metadata": {},
   "outputs": [],
   "source": [
    "plastic1 = pd.concat([plastic1,output_w[\"yhat\"]],axis=1)"
   ]
  },
  {
   "cell_type": "code",
   "execution_count": 28,
   "id": "2f5aae2b",
   "metadata": {},
   "outputs": [],
   "source": [
    "#plastic1 = plastic1.rename({'yhat': 'QUANTITY'}, axis=1)"
   ]
  },
  {
   "cell_type": "code",
   "execution_count": 29,
   "id": "491be994",
   "metadata": {},
   "outputs": [
    {
     "data": {
      "text/html": [
       "<div>\n",
       "<style scoped>\n",
       "    .dataframe tbody tr th:only-of-type {\n",
       "        vertical-align: middle;\n",
       "    }\n",
       "\n",
       "    .dataframe tbody tr th {\n",
       "        vertical-align: top;\n",
       "    }\n",
       "\n",
       "    .dataframe thead th {\n",
       "        text-align: right;\n",
       "    }\n",
       "</style>\n",
       "<table border=\"1\" class=\"dataframe\">\n",
       "  <thead>\n",
       "    <tr style=\"text-align: right;\">\n",
       "      <th></th>\n",
       "      <th>EFFECTIVE DATE</th>\n",
       "      <th>Customer/Vendor Name</th>\n",
       "      <th>Region</th>\n",
       "      <th>STATE</th>\n",
       "      <th>City</th>\n",
       "      <th>From WhsName</th>\n",
       "      <th>yhat</th>\n",
       "    </tr>\n",
       "  </thead>\n",
       "  <tbody>\n",
       "    <tr>\n",
       "      <th>0</th>\n",
       "      <td>2021-11-01</td>\n",
       "      <td>37</td>\n",
       "      <td>1</td>\n",
       "      <td>6</td>\n",
       "      <td>27</td>\n",
       "      <td>3</td>\n",
       "      <td>21.159340</td>\n",
       "    </tr>\n",
       "    <tr>\n",
       "      <th>1</th>\n",
       "      <td>2021-11-01</td>\n",
       "      <td>37</td>\n",
       "      <td>1</td>\n",
       "      <td>6</td>\n",
       "      <td>27</td>\n",
       "      <td>3</td>\n",
       "      <td>20.973278</td>\n",
       "    </tr>\n",
       "    <tr>\n",
       "      <th>2</th>\n",
       "      <td>2021-11-01</td>\n",
       "      <td>8</td>\n",
       "      <td>1</td>\n",
       "      <td>9</td>\n",
       "      <td>4</td>\n",
       "      <td>3</td>\n",
       "      <td>20.937218</td>\n",
       "    </tr>\n",
       "    <tr>\n",
       "      <th>3</th>\n",
       "      <td>2021-11-01</td>\n",
       "      <td>75</td>\n",
       "      <td>1</td>\n",
       "      <td>9</td>\n",
       "      <td>35</td>\n",
       "      <td>3</td>\n",
       "      <td>21.674900</td>\n",
       "    </tr>\n",
       "    <tr>\n",
       "      <th>4</th>\n",
       "      <td>2021-11-01</td>\n",
       "      <td>76</td>\n",
       "      <td>1</td>\n",
       "      <td>9</td>\n",
       "      <td>35</td>\n",
       "      <td>3</td>\n",
       "      <td>21.465748</td>\n",
       "    </tr>\n",
       "    <tr>\n",
       "      <th>...</th>\n",
       "      <td>...</td>\n",
       "      <td>...</td>\n",
       "      <td>...</td>\n",
       "      <td>...</td>\n",
       "      <td>...</td>\n",
       "      <td>...</td>\n",
       "      <td>...</td>\n",
       "    </tr>\n",
       "    <tr>\n",
       "      <th>8499</th>\n",
       "      <td>2022-10-31</td>\n",
       "      <td>8</td>\n",
       "      <td>1</td>\n",
       "      <td>9</td>\n",
       "      <td>4</td>\n",
       "      <td>3</td>\n",
       "      <td>19.974798</td>\n",
       "    </tr>\n",
       "    <tr>\n",
       "      <th>8500</th>\n",
       "      <td>2022-10-31</td>\n",
       "      <td>45</td>\n",
       "      <td>2</td>\n",
       "      <td>5</td>\n",
       "      <td>21</td>\n",
       "      <td>8</td>\n",
       "      <td>19.818203</td>\n",
       "    </tr>\n",
       "    <tr>\n",
       "      <th>8501</th>\n",
       "      <td>2022-10-31</td>\n",
       "      <td>82</td>\n",
       "      <td>0</td>\n",
       "      <td>10</td>\n",
       "      <td>23</td>\n",
       "      <td>10</td>\n",
       "      <td>20.684263</td>\n",
       "    </tr>\n",
       "    <tr>\n",
       "      <th>8502</th>\n",
       "      <td>2022-10-31</td>\n",
       "      <td>43</td>\n",
       "      <td>2</td>\n",
       "      <td>5</td>\n",
       "      <td>1</td>\n",
       "      <td>12</td>\n",
       "      <td>19.911599</td>\n",
       "    </tr>\n",
       "    <tr>\n",
       "      <th>8503</th>\n",
       "      <td>2022-10-31</td>\n",
       "      <td>43</td>\n",
       "      <td>2</td>\n",
       "      <td>5</td>\n",
       "      <td>1</td>\n",
       "      <td>12</td>\n",
       "      <td>19.551108</td>\n",
       "    </tr>\n",
       "  </tbody>\n",
       "</table>\n",
       "<p>8501 rows × 7 columns</p>\n",
       "</div>"
      ],
      "text/plain": [
       "     EFFECTIVE DATE  Customer/Vendor Name  Region  STATE  City  From WhsName  \\\n",
       "0        2021-11-01                    37       1      6    27             3   \n",
       "1        2021-11-01                    37       1      6    27             3   \n",
       "2        2021-11-01                     8       1      9     4             3   \n",
       "3        2021-11-01                    75       1      9    35             3   \n",
       "4        2021-11-01                    76       1      9    35             3   \n",
       "...             ...                   ...     ...    ...   ...           ...   \n",
       "8499     2022-10-31                     8       1      9     4             3   \n",
       "8500     2022-10-31                    45       2      5    21             8   \n",
       "8501     2022-10-31                    82       0     10    23            10   \n",
       "8502     2022-10-31                    43       2      5     1            12   \n",
       "8503     2022-10-31                    43       2      5     1            12   \n",
       "\n",
       "           yhat  \n",
       "0     21.159340  \n",
       "1     20.973278  \n",
       "2     20.937218  \n",
       "3     21.674900  \n",
       "4     21.465748  \n",
       "...         ...  \n",
       "8499  19.974798  \n",
       "8500  19.818203  \n",
       "8501  20.684263  \n",
       "8502  19.911599  \n",
       "8503  19.551108  \n",
       "\n",
       "[8501 rows x 7 columns]"
      ]
     },
     "execution_count": 29,
     "metadata": {},
     "output_type": "execute_result"
    }
   ],
   "source": [
    "plastic1"
   ]
  },
  {
   "cell_type": "code",
   "execution_count": 30,
   "id": "dfc2190a",
   "metadata": {},
   "outputs": [
    {
     "data": {
      "text/plain": [
       "(8501, 7)"
      ]
     },
     "execution_count": 30,
     "metadata": {},
     "output_type": "execute_result"
    }
   ],
   "source": [
    "plastic1.shape"
   ]
  },
  {
   "cell_type": "code",
   "execution_count": 31,
   "id": "576b869e",
   "metadata": {},
   "outputs": [
    {
     "name": "stdout",
     "output_type": "stream",
     "text": [
      "<class 'pandas.core.frame.DataFrame'>\n",
      "Int64Index: 8501 entries, 0 to 8503\n",
      "Data columns (total 7 columns):\n",
      " #   Column                Non-Null Count  Dtype         \n",
      "---  ------                --------------  -----         \n",
      " 0   EFFECTIVE DATE        8501 non-null   datetime64[ns]\n",
      " 1   Customer/Vendor Name  8501 non-null   int32         \n",
      " 2   Region                8501 non-null   int32         \n",
      " 3   STATE                 8501 non-null   int32         \n",
      " 4   City                  8501 non-null   int32         \n",
      " 5   From WhsName          8501 non-null   int32         \n",
      " 6   yhat                  8501 non-null   float64       \n",
      "dtypes: datetime64[ns](1), float64(1), int32(5)\n",
      "memory usage: 365.3 KB\n"
     ]
    }
   ],
   "source": [
    "plastic1.info()"
   ]
  },
  {
   "cell_type": "code",
   "execution_count": 32,
   "id": "89a752a4",
   "metadata": {},
   "outputs": [],
   "source": [
    "train_dates = pd.to_datetime(plastic1['EFFECTIVE DATE'])"
   ]
  },
  {
   "cell_type": "code",
   "execution_count": 33,
   "id": "bea9220e",
   "metadata": {},
   "outputs": [],
   "source": [
    "#plastic1 = plastic1.convert_dtypes()\n",
    "#plastic1[\"QUANTITY\"] = plastic1[\"QUANTITY\"].astype('int64')"
   ]
  },
  {
   "cell_type": "code",
   "execution_count": 34,
   "id": "2247d460",
   "metadata": {},
   "outputs": [],
   "source": [
    "#plastic1.info()"
   ]
  },
  {
   "cell_type": "code",
   "execution_count": 35,
   "id": "54e116c2",
   "metadata": {},
   "outputs": [
    {
     "name": "stdout",
     "output_type": "stream",
     "text": [
      "['Customer/Vendor Name', 'Region', 'STATE', 'City', 'From WhsName', 'yhat']\n"
     ]
    }
   ],
   "source": [
    "cols = list(plastic1)[1:7]\n",
    "print(cols)"
   ]
  },
  {
   "cell_type": "code",
   "execution_count": null,
   "id": "ca4670ea",
   "metadata": {},
   "outputs": [],
   "source": []
  },
  {
   "cell_type": "code",
   "execution_count": null,
   "id": "8fdb8c76",
   "metadata": {},
   "outputs": [],
   "source": []
  },
  {
   "cell_type": "code",
   "execution_count": 36,
   "id": "916dcaf3",
   "metadata": {},
   "outputs": [],
   "source": [
    "groupby_object = plastic1.groupby('Customer/Vendor Name')"
   ]
  },
  {
   "cell_type": "code",
   "execution_count": 37,
   "id": "d7850315",
   "metadata": {},
   "outputs": [],
   "source": [
    "plastic1 = groupby_object.sum()"
   ]
  },
  {
   "cell_type": "code",
   "execution_count": 38,
   "id": "52fb274f",
   "metadata": {},
   "outputs": [
    {
     "data": {
      "text/html": [
       "<div>\n",
       "<style scoped>\n",
       "    .dataframe tbody tr th:only-of-type {\n",
       "        vertical-align: middle;\n",
       "    }\n",
       "\n",
       "    .dataframe tbody tr th {\n",
       "        vertical-align: top;\n",
       "    }\n",
       "\n",
       "    .dataframe thead th {\n",
       "        text-align: right;\n",
       "    }\n",
       "</style>\n",
       "<table border=\"1\" class=\"dataframe\">\n",
       "  <thead>\n",
       "    <tr style=\"text-align: right;\">\n",
       "      <th></th>\n",
       "      <th>Region</th>\n",
       "      <th>STATE</th>\n",
       "      <th>City</th>\n",
       "      <th>From WhsName</th>\n",
       "      <th>yhat</th>\n",
       "    </tr>\n",
       "    <tr>\n",
       "      <th>Customer/Vendor Name</th>\n",
       "      <th></th>\n",
       "      <th></th>\n",
       "      <th></th>\n",
       "      <th></th>\n",
       "      <th></th>\n",
       "    </tr>\n",
       "  </thead>\n",
       "  <tbody>\n",
       "    <tr>\n",
       "      <th>0</th>\n",
       "      <td>0</td>\n",
       "      <td>60</td>\n",
       "      <td>720</td>\n",
       "      <td>287</td>\n",
       "      <td>614.374927</td>\n",
       "    </tr>\n",
       "    <tr>\n",
       "      <th>1</th>\n",
       "      <td>26</td>\n",
       "      <td>78</td>\n",
       "      <td>52</td>\n",
       "      <td>90</td>\n",
       "      <td>534.725269</td>\n",
       "    </tr>\n",
       "    <tr>\n",
       "      <th>2</th>\n",
       "      <td>0</td>\n",
       "      <td>282</td>\n",
       "      <td>1128</td>\n",
       "      <td>1328</td>\n",
       "      <td>2904.869526</td>\n",
       "    </tr>\n",
       "    <tr>\n",
       "      <th>3</th>\n",
       "      <td>217</td>\n",
       "      <td>1953</td>\n",
       "      <td>868</td>\n",
       "      <td>651</td>\n",
       "      <td>4455.659541</td>\n",
       "    </tr>\n",
       "    <tr>\n",
       "      <th>4</th>\n",
       "      <td>2</td>\n",
       "      <td>5</td>\n",
       "      <td>28</td>\n",
       "      <td>12</td>\n",
       "      <td>20.603599</td>\n",
       "    </tr>\n",
       "    <tr>\n",
       "      <th>...</th>\n",
       "      <td>...</td>\n",
       "      <td>...</td>\n",
       "      <td>...</td>\n",
       "      <td>...</td>\n",
       "      <td>...</td>\n",
       "    </tr>\n",
       "    <tr>\n",
       "      <th>80</th>\n",
       "      <td>0</td>\n",
       "      <td>10</td>\n",
       "      <td>23</td>\n",
       "      <td>10</td>\n",
       "      <td>19.883665</td>\n",
       "    </tr>\n",
       "    <tr>\n",
       "      <th>81</th>\n",
       "      <td>28</td>\n",
       "      <td>70</td>\n",
       "      <td>252</td>\n",
       "      <td>168</td>\n",
       "      <td>293.495170</td>\n",
       "    </tr>\n",
       "    <tr>\n",
       "      <th>82</th>\n",
       "      <td>0</td>\n",
       "      <td>8980</td>\n",
       "      <td>20654</td>\n",
       "      <td>8477</td>\n",
       "      <td>18472.629975</td>\n",
       "    </tr>\n",
       "    <tr>\n",
       "      <th>83</th>\n",
       "      <td>8</td>\n",
       "      <td>4</td>\n",
       "      <td>132</td>\n",
       "      <td>20</td>\n",
       "      <td>80.818384</td>\n",
       "    </tr>\n",
       "    <tr>\n",
       "      <th>84</th>\n",
       "      <td>6</td>\n",
       "      <td>54</td>\n",
       "      <td>102</td>\n",
       "      <td>18</td>\n",
       "      <td>126.272886</td>\n",
       "    </tr>\n",
       "  </tbody>\n",
       "</table>\n",
       "<p>85 rows × 5 columns</p>\n",
       "</div>"
      ],
      "text/plain": [
       "                      Region  STATE   City  From WhsName          yhat\n",
       "Customer/Vendor Name                                                  \n",
       "0                          0     60    720           287    614.374927\n",
       "1                         26     78     52            90    534.725269\n",
       "2                          0    282   1128          1328   2904.869526\n",
       "3                        217   1953    868           651   4455.659541\n",
       "4                          2      5     28            12     20.603599\n",
       "...                      ...    ...    ...           ...           ...\n",
       "80                         0     10     23            10     19.883665\n",
       "81                        28     70    252           168    293.495170\n",
       "82                         0   8980  20654          8477  18472.629975\n",
       "83                         8      4    132            20     80.818384\n",
       "84                         6     54    102            18    126.272886\n",
       "\n",
       "[85 rows x 5 columns]"
      ]
     },
     "execution_count": 38,
     "metadata": {},
     "output_type": "execute_result"
    }
   ],
   "source": [
    "plastic1"
   ]
  },
  {
   "cell_type": "code",
   "execution_count": 39,
   "id": "df0adee9",
   "metadata": {},
   "outputs": [],
   "source": [
    "#plastic1.to_excel(\"plastic1.xlsx\")"
   ]
  },
  {
   "cell_type": "code",
   "execution_count": 40,
   "id": "b89ee0b9",
   "metadata": {},
   "outputs": [
    {
     "data": {
      "text/plain": [
       "'C:\\\\Users\\\\aishw'"
      ]
     },
     "execution_count": 40,
     "metadata": {},
     "output_type": "execute_result"
    }
   ],
   "source": [
    "import os\n",
    "os.getcwd()"
   ]
  },
  {
   "cell_type": "code",
   "execution_count": null,
   "id": "54326a63",
   "metadata": {},
   "outputs": [],
   "source": []
  },
  {
   "cell_type": "code",
   "execution_count": null,
   "id": "537b2b57",
   "metadata": {},
   "outputs": [],
   "source": []
  },
  {
   "cell_type": "code",
   "execution_count": null,
   "id": "c84c047c",
   "metadata": {},
   "outputs": [],
   "source": []
  },
  {
   "cell_type": "code",
   "execution_count": null,
   "id": "1ebd8c48",
   "metadata": {},
   "outputs": [],
   "source": []
  },
  {
   "cell_type": "code",
   "execution_count": null,
   "id": "69484c6c",
   "metadata": {},
   "outputs": [],
   "source": []
  },
  {
   "cell_type": "code",
   "execution_count": 42,
   "id": "b6a7f071",
   "metadata": {},
   "outputs": [],
   "source": [
    "df_for_training = plastic1.astype(float)"
   ]
  },
  {
   "cell_type": "code",
   "execution_count": 43,
   "id": "13a18311",
   "metadata": {},
   "outputs": [
    {
     "name": "stdout",
     "output_type": "stream",
     "text": [
      "<class 'pandas.core.frame.DataFrame'>\n",
      "Int64Index: 85 entries, 0 to 84\n",
      "Data columns (total 5 columns):\n",
      " #   Column        Non-Null Count  Dtype  \n",
      "---  ------        --------------  -----  \n",
      " 0   Region        85 non-null     float64\n",
      " 1   STATE         85 non-null     float64\n",
      " 2   City          85 non-null     float64\n",
      " 3   From WhsName  85 non-null     float64\n",
      " 4   yhat          85 non-null     float64\n",
      "dtypes: float64(5)\n",
      "memory usage: 4.0 KB\n"
     ]
    }
   ],
   "source": [
    "df_for_training.info()"
   ]
  },
  {
   "cell_type": "code",
   "execution_count": 44,
   "id": "b6c3d914",
   "metadata": {},
   "outputs": [
    {
     "data": {
      "text/plain": [
       "<AxesSubplot: xlabel='Customer/Vendor Name'>"
      ]
     },
     "execution_count": 44,
     "metadata": {},
     "output_type": "execute_result"
    },
    {
     "data": {
      "image/png": "[encoded data removed]",
      "text/plain": [
       "<Figure size 640x480 with 1 Axes>"
      ]
     },
     "metadata": {},
     "output_type": "display_data"
    }
   ],
   "source": [
    "df_for_plot=df_for_training.tail(5000)\n",
    "df_for_plot.plot.line()"
   ]
  },
  {
   "cell_type": "code",
   "execution_count": 45,
   "id": "2d59a968",
   "metadata": {},
   "outputs": [
    {
     "data": {
      "text/html": [
       "<div>\n",
       "<style scoped>\n",
       "    .dataframe tbody tr th:only-of-type {\n",
       "        vertical-align: middle;\n",
       "    }\n",
       "\n",
       "    .dataframe tbody tr th {\n",
       "        vertical-align: top;\n",
       "    }\n",
       "\n",
       "    .dataframe thead th {\n",
       "        text-align: right;\n",
       "    }\n",
       "</style>\n",
       "<table border=\"1\" class=\"dataframe\">\n",
       "  <thead>\n",
       "    <tr style=\"text-align: right;\">\n",
       "      <th></th>\n",
       "      <th>Region</th>\n",
       "      <th>STATE</th>\n",
       "      <th>City</th>\n",
       "      <th>From WhsName</th>\n",
       "      <th>yhat</th>\n",
       "    </tr>\n",
       "    <tr>\n",
       "      <th>Customer/Vendor Name</th>\n",
       "      <th></th>\n",
       "      <th></th>\n",
       "      <th></th>\n",
       "      <th></th>\n",
       "      <th></th>\n",
       "    </tr>\n",
       "  </thead>\n",
       "  <tbody>\n",
       "    <tr>\n",
       "      <th>0</th>\n",
       "      <td>0.0</td>\n",
       "      <td>60.0</td>\n",
       "      <td>720.0</td>\n",
       "      <td>287.0</td>\n",
       "      <td>614.374927</td>\n",
       "    </tr>\n",
       "    <tr>\n",
       "      <th>1</th>\n",
       "      <td>26.0</td>\n",
       "      <td>78.0</td>\n",
       "      <td>52.0</td>\n",
       "      <td>90.0</td>\n",
       "      <td>534.725269</td>\n",
       "    </tr>\n",
       "    <tr>\n",
       "      <th>2</th>\n",
       "      <td>0.0</td>\n",
       "      <td>282.0</td>\n",
       "      <td>1128.0</td>\n",
       "      <td>1328.0</td>\n",
       "      <td>2904.869526</td>\n",
       "    </tr>\n",
       "    <tr>\n",
       "      <th>3</th>\n",
       "      <td>217.0</td>\n",
       "      <td>1953.0</td>\n",
       "      <td>868.0</td>\n",
       "      <td>651.0</td>\n",
       "      <td>4455.659541</td>\n",
       "    </tr>\n",
       "    <tr>\n",
       "      <th>4</th>\n",
       "      <td>2.0</td>\n",
       "      <td>5.0</td>\n",
       "      <td>28.0</td>\n",
       "      <td>12.0</td>\n",
       "      <td>20.603599</td>\n",
       "    </tr>\n",
       "  </tbody>\n",
       "</table>\n",
       "</div>"
      ],
      "text/plain": [
       "                      Region   STATE    City  From WhsName         yhat\n",
       "Customer/Vendor Name                                                   \n",
       "0                        0.0    60.0   720.0         287.0   614.374927\n",
       "1                       26.0    78.0    52.0          90.0   534.725269\n",
       "2                        0.0   282.0  1128.0        1328.0  2904.869526\n",
       "3                      217.0  1953.0   868.0         651.0  4455.659541\n",
       "4                        2.0     5.0    28.0          12.0    20.603599"
      ]
     },
     "execution_count": 45,
     "metadata": {},
     "output_type": "execute_result"
    }
   ],
   "source": [
    "df_for_training.head()"
   ]
  },
  {
   "cell_type": "code",
   "execution_count": 46,
   "id": "d848fe9e",
   "metadata": {},
   "outputs": [],
   "source": [
    "#LSTM uses sigmoid and tanh that are sensitive to magnitude so values need to be normalized\n",
    "# normalize the dataset\n",
    "scaler = StandardScaler()\n",
    "scaler = scaler.fit(df_for_training)\n",
    "df_for_training_scaled = scaler.transform(df_for_training)"
   ]
  },
  {
   "cell_type": "code",
   "execution_count": 47,
   "id": "15d7958b",
   "metadata": {},
   "outputs": [
    {
     "data": {
      "text/plain": [
       "85"
      ]
     },
     "execution_count": 47,
     "metadata": {},
     "output_type": "execute_result"
    }
   ],
   "source": [
    "len(df_for_training_scaled)"
   ]
  },
  {
   "cell_type": "code",
   "execution_count": 48,
   "id": "750517f4",
   "metadata": {},
   "outputs": [],
   "source": [
    "#As required for LSTM networks, we require to reshape an input data into n_samples x timesteps x n_features. \n",
    "#In this example, the n_features is 5. We will make timesteps = 14 (past days data used for training). \n",
    "\n",
    "#Empty lists to be populated using formatted training data\n",
    "trainX = []\n",
    "trainY = []\n"
   ]
  },
  {
   "cell_type": "code",
   "execution_count": 49,
   "id": "1901ca5b",
   "metadata": {},
   "outputs": [],
   "source": [
    "n_future = 1   # Number of days we want to look into the future based on the past days.\n",
    "n_past = 180  # Number of past days we want to use to predict the future."
   ]
  },
  {
   "cell_type": "code",
   "execution_count": 50,
   "id": "85953d29",
   "metadata": {},
   "outputs": [],
   "source": [
    "#Reformat input data into a shape: (n_samples x timesteps x n_features)\n",
    "#In my example, my df_for_training_scaled has a shape (11786, 7)\n",
    "#21644 refers to the number of data points and 5 refers to the columns (multi-variables).\n",
    "for i in range(n_past, len(df_for_training_scaled) - n_future +1):\n",
    "    trainX.append(df_for_training_scaled[i - n_past:i, 0:df_for_training.shape[1]])\n",
    "    trainY.append(df_for_training_scaled[i + n_future - 1:i + n_future, 4])"
   ]
  },
  {
   "cell_type": "code",
   "execution_count": 51,
   "id": "d721b5c9",
   "metadata": {},
   "outputs": [],
   "source": [
    "trainX, trainY = np.array(trainX), np.array(trainY)"
   ]
  },
  {
   "cell_type": "code",
   "execution_count": 52,
   "id": "2f5ea50d",
   "metadata": {},
   "outputs": [
    {
     "name": "stdout",
     "output_type": "stream",
     "text": [
      "trainX shape == (0,).\n"
     ]
    }
   ],
   "source": [
    "print('trainX shape == {}.'.format(trainX.shape))"
   ]
  },
  {
   "cell_type": "code",
   "execution_count": 53,
   "id": "1857ce53",
   "metadata": {},
   "outputs": [
    {
     "name": "stdout",
     "output_type": "stream",
     "text": [
      "trainY shape == (0,).\n"
     ]
    }
   ],
   "source": [
    "print('trainY shape == {}.'.format(trainY.shape))"
   ]
  },
  {
   "cell_type": "code",
   "execution_count": 54,
   "id": "41103b83",
   "metadata": {},
   "outputs": [
    {
     "data": {
      "text/plain": [
       "array([[-5.45382427e-01, -4.58829675e-01, -2.46919001e-01,\n",
       "        -2.85539715e-01, -4.54615560e-01],\n",
       "       [-4.32948177e-01, -4.44390088e-01, -4.47886002e-01,\n",
       "        -4.17261319e-01, -4.79669036e-01],\n",
       "       [-5.45382427e-01, -2.80741435e-01, -1.24172689e-01,\n",
       "         4.10512013e-01,  2.65850181e-01],\n",
       "       [ 3.93011124e-01,  1.05973356e+00, -2.02393378e-01,\n",
       "        -4.21556332e-02,  7.53644859e-01],\n",
       "       [-5.36733639e-01, -5.02950635e-01, -4.55106373e-01,\n",
       "        -4.69415051e-01, -6.41383911e-01],\n",
       "       [ 1.08923860e+00,  2.51116687e-01, -4.06669716e-01,\n",
       "         1.03903134e+00,  5.77934218e-01],\n",
       "       [ 8.81667674e-01,  1.54852774e-01,  9.26391334e-01,\n",
       "         8.46463719e-01,  4.18615916e-01],\n",
       "       [-5.45382427e-01, -5.05357233e-01, -4.61123349e-01,\n",
       "        -4.71420964e-01, -6.41285284e-01],\n",
       "       [ 1.02004829e+00,  2.10660362e+00, -2.79010720e-02,\n",
       "         2.48701717e-01,  1.69217437e+00],\n",
       "       [ 2.74115720e+00, -2.02125905e-01,  1.25130804e+00,\n",
       "        -6.15461232e-02,  1.81641985e+00],\n",
       "       [ 1.18005088e+00,  2.37373598e+00,  1.57712730e+00,\n",
       "         3.22920489e-01,  1.93709420e+00],\n",
       "       [-5.41058033e-01, -4.99741838e-01, -4.62326745e-01,\n",
       "        -4.75432789e-01, -6.41714367e-01],\n",
       "       [ 3.02198845e-01, -4.28346102e-01,  3.91482161e-01,\n",
       "        -4.11912218e-01, -1.77441011e-02],\n",
       "       [-5.45382427e-01, -4.92522044e-01, -4.41869026e-01,\n",
       "        -4.20604507e-01, -5.89448503e-01],\n",
       "       [-2.90243167e-01, -8.09938143e-02, -3.92529822e-01,\n",
       "        -3.59089849e-01, -2.57679889e-01],\n",
       "       [-5.45382427e-01, -2.95181022e-01,  5.27264074e-02,\n",
       "         3.48328717e-01,  2.09648401e-01],\n",
       "       [-5.45382427e-01, -3.27268993e-01, -4.38258840e-01,\n",
       "        -2.99581104e-01, -4.65648692e-01],\n",
       "       [-1.99430888e-01, -3.78609747e-01, -1.50647384e-01,\n",
       "        -3.16965681e-01, -3.89417707e-01],\n",
       "       [-4.58894542e-01, -4.66851667e-01, -3.67258523e-01,\n",
       "        -3.97202192e-01, -5.82924697e-01],\n",
       "       [-2.42674830e-01, -1.57608564e-03, -3.79292475e-01,\n",
       "        -3.37024809e-01, -1.90809274e-01],\n",
       "       [-5.41058033e-01, -4.99741838e-01, -4.62326745e-01,\n",
       "        -4.75432789e-01, -6.41229976e-01],\n",
       "       [ 3.83090455e+00,  1.52260254e+00, -3.11300645e-01,\n",
       "         3.58252872e+00,  2.63468490e+00],\n",
       "       [-5.45382427e-01, -5.00544037e-01, -4.53902978e-01,\n",
       "        -4.53367749e-01, -6.22249417e-01],\n",
       "       [ 2.67603691e-01, -2.05334702e-01, -2.65571627e-01,\n",
       "        -1.00327103e-01, -3.47356704e-02],\n",
       "       [-4.89165302e-01, -4.13104316e-01, -4.08775658e-01,\n",
       "        -4.65403225e-01, -5.62041594e-01],\n",
       "       [ 2.81899630e+00,  1.05331597e+00,  2.11113392e+00,\n",
       "         1.95506484e+00,  1.88668011e+00],\n",
       "       [-5.45382427e-01, -5.05357233e-01, -4.59619105e-01,\n",
       "        -4.71420964e-01, -6.40924968e-01],\n",
       "       [-5.45382427e-01, -4.73269262e-01, -4.12987541e-01,\n",
       "        -3.47054373e-01, -5.11704688e-01],\n",
       "       [-2.68621195e-01, -3.78609747e-01, -1.93969612e-01,\n",
       "        -2.20681869e-01, -4.40479690e-01],\n",
       "       [-4.50245754e-01, -3.48126174e-01, -4.37055445e-01,\n",
       "        -4.33308621e-01, -5.05673892e-01],\n",
       "       [-3.11865138e-01, -4.85302251e-01, -2.11719691e-01,\n",
       "        -4.59385487e-01, -4.72981308e-01],\n",
       "       [-5.36733639e-01, -5.02950635e-01, -4.53301281e-01,\n",
       "        -4.76101427e-01, -6.41395079e-01],\n",
       "       [-5.45382427e-01, -1.58807144e-01, -3.51614385e-01,\n",
       "        -8.29425260e-02, -2.49216325e-01],\n",
       "       [-4.84840908e-01, -4.78884657e-01, -4.19305366e-01,\n",
       "        -4.39994997e-01, -6.02632361e-01],\n",
       "       [-5.36733639e-01, -4.92522044e-01, -4.60521652e-01,\n",
       "        -4.73426876e-01, -6.34658461e-01],\n",
       "       [-4.93489696e-01, -5.06961631e-01, -3.33563457e-01,\n",
       "        -4.53367749e-01, -5.70745630e-01],\n",
       "       [-9.99698199e-02,  2.36677100e-01, -3.39580433e-01,\n",
       "        -2.70829688e-01,  2.05110617e-02],\n",
       "       [-1.82133311e-01, -1.02653195e-01,  2.18794947e-01,\n",
       "        -3.08942030e-01, -1.00490690e-01],\n",
       "       [ 1.02004829e+00,  2.19028716e-01,  1.06117160e+00,\n",
       "         9.74842136e-01,  5.25668493e-01],\n",
       "       [-5.10787273e-01, -4.90917646e-01, -4.29835074e-01,\n",
       "        -4.45344098e-01, -6.20980604e-01],\n",
       "       [-5.45382427e-01, -3.70587754e-01, -1.31092212e-01,\n",
       "         6.48263806e-02, -1.00002346e-01],\n",
       "       [ 5.30984738e+00,  2.20848293e+00,  5.23935979e+00,\n",
       "         4.95457305e+00,  3.72809360e+00],\n",
       "       [-5.45382427e-01, -4.82895653e-01, -4.54504676e-01,\n",
       "        -4.59385487e-01, -6.28638353e-01],\n",
       "       [ 1.91952229e+00,  6.36172341e-01, -3.77788231e-01,\n",
       "         1.80127819e+00,  1.19294866e+00],\n",
       "       [-5.36733639e-01, -5.02950635e-01, -4.57513164e-01,\n",
       "        -4.76101427e-01, -6.41402083e-01],\n",
       "       [ 8.98965251e-01,  1.62874767e-01,  5.91546615e-01,\n",
       "         4.15861113e-01,  4.31114529e-01],\n",
       "       [-5.45382427e-01, -3.49730573e-01, -8.02487639e-02,\n",
       "         1.46400166e-01, -1.23980960e-02],\n",
       "       [-1.38889368e-01, -3.18444801e-01, -6.76131141e-02,\n",
       "        -1.00327103e-01, -3.44092571e-01],\n",
       "       [-4.28623782e-01, -3.12027207e-01, -4.31038469e-01,\n",
       "        -4.23279057e-01, -4.73785480e-01],\n",
       "       [-5.45382427e-01, -5.01346236e-01, -4.57814013e-01,\n",
       "        -4.70752326e-01, -6.41810766e-01],\n",
       "       [-5.45382427e-01, -4.92522044e-01, -3.98546798e-01,\n",
       "        -4.22610420e-01, -5.89166444e-01],\n",
       "       [ 5.13839787e-02, -2.30202880e-01,  1.17709749e-01,\n",
       "         7.61932195e-02, -2.00561658e-01],\n",
       "       [ 6.39501596e-01, -3.97060330e-01,  8.14174730e-01,\n",
       "        -3.85835353e-01,  2.34409969e-01],\n",
       "       [ 1.98413383e-01, -4.37972493e-01, -4.63530140e-01,\n",
       "        -4.19935870e-01, -8.95846237e-02],\n",
       "       [ 7.95179789e-01,  1.14742810e-01,  8.42153669e-01,\n",
       "         7.66227209e-01,  3.58362944e-01],\n",
       "       [-3.37811503e-01, -4.87708849e-01, -3.98546798e-01,\n",
       "        -4.61391400e-01, -4.92790142e-01],\n",
       "       [-5.45382427e-01, -2.77532638e-01, -2.28868073e-01,\n",
       "        -2.86208352e-01, -4.80597284e-01],\n",
       "       [-5.45382427e-01, -5.05357233e-01, -4.59619105e-01,\n",
       "        -4.70752326e-01, -6.41442963e-01],\n",
       "       [-1.73484522e-01, -3.34488786e-01, -1.01308180e-01,\n",
       "        -1.32421707e-01, -3.71320793e-01],\n",
       "       [-4.67543331e-01, -4.70862664e-01, -3.87716241e-01,\n",
       "        -4.05225843e-01, -5.90061435e-01],\n",
       "       [-4.37272571e-01, -3.26466794e-01, -4.33445260e-01,\n",
       "        -4.27290883e-01, -4.86541374e-01],\n",
       "       [-3.11865138e-01, -4.85302251e-01, -4.63530140e-01,\n",
       "        -4.44675460e-01, -4.74589133e-01],\n",
       "       [-5.45382427e-01, -2.58279855e-01, -3.60940698e-01,\n",
       "        -2.72835601e-01, -4.50706447e-01],\n",
       "       [-5.45382427e-01, -4.42785689e-01, -4.37055445e-01,\n",
       "        -4.23947695e-01, -5.96557021e-01],\n",
       "       [ 5.14094163e-01,  1.26188778e+00, -1.68698312e-01,\n",
       "         1.40099240e-02,  9.47112246e-01],\n",
       "       [ 1.07194102e+00,  2.19324114e+00,  8.86679292e-01,\n",
       "         2.72772670e-01,  1.77414257e+00],\n",
       "       [-5.41058033e-01, -4.99741838e-01, -4.58716559e-01,\n",
       "        -4.75432789e-01, -6.41266081e-01],\n",
       "       [-5.45382427e-01, -3.83422942e-01, -2.78207277e-01,\n",
       "         1.93590247e-02, -1.55833257e-01],\n",
       "       [-5.45382427e-01, -3.30477790e-01, -2.83020858e-01,\n",
       "        -3.30338433e-01, -5.18488051e-01],\n",
       "       [-4.15650600e-01, -2.90367826e-01, -4.27428283e-01,\n",
       "        -4.17261319e-01, -4.53360667e-01],\n",
       "       [ 5.05445374e-01,  1.24744819e+00, -1.71105103e-01,\n",
       "         9.99809850e-03,  9.23070522e-01],\n",
       "       [-5.45382427e-01, -4.98137439e-01, -4.56008920e-01,\n",
       "        -4.70083689e-01, -6.41516740e-01],\n",
       "       [-4.50245754e-01, -3.48126174e-01, -4.30436771e-01,\n",
       "        -4.33308621e-01, -5.04781710e-01],\n",
       "       [-4.07001811e-01, -4.42785689e-01, -3.28749876e-01,\n",
       "        -3.49060285e-01, -5.43999704e-01],\n",
       "       [ 2.71928085e-01,  8.57579342e-01,  5.03097067e-01,\n",
       "        -9.83211905e-02,  5.80829960e-01],\n",
       "       [ 1.72467018e-01,  6.91524091e-01,  1.28440141e+00,\n",
       "        -1.44457184e-01,  4.31520243e-01],\n",
       "       [-3.11865138e-01, -1.17092782e-01,  1.05074099e-01,\n",
       "        -3.69119413e-01, -2.98428404e-01],\n",
       "       [-3.55109080e-01, -4.18719711e-01, -2.78207277e-01,\n",
       "        -3.34350258e-01, -5.04954438e-01],\n",
       "       [-2.16728464e-01,  4.17426754e-02, -3.72072104e-01,\n",
       "        -3.24989332e-01, -1.53168494e-01],\n",
       "       [-2.12404070e-01,  4.89624689e-02, -3.70868708e-01,\n",
       "        -3.22983420e-01, -1.49082647e-01],\n",
       "       [-5.45382427e-01, -4.98939639e-01, -4.56610617e-01,\n",
       "        -4.70752326e-01, -6.41610364e-01],\n",
       "       [-4.24299388e-01, -4.50807682e-01, -3.87716241e-01,\n",
       "        -3.65107587e-01, -5.55546980e-01],\n",
       "       [-5.45382427e-01,  6.69678789e+00,  5.75020105e+00,\n",
       "         5.19060212e+00,  5.16262578e+00],\n",
       "       [-5.10787273e-01, -5.03752834e-01, -4.23818098e-01,\n",
       "        -4.64065950e-01, -6.22443596e-01],\n",
       "       [-5.19436062e-01, -4.63642870e-01, -4.32843562e-01,\n",
       "        -4.65403225e-01, -6.08146068e-01]])"
      ]
     },
     "execution_count": 54,
     "metadata": {},
     "output_type": "execute_result"
    }
   ],
   "source": [
    "df_for_training_scaled"
   ]
  },
  {
   "cell_type": "code",
   "execution_count": 55,
   "id": "38f48c52",
   "metadata": {},
   "outputs": [
    {
     "data": {
      "text/plain": [
       "array([], dtype=float64)"
      ]
     },
     "execution_count": 55,
     "metadata": {},
     "output_type": "execute_result"
    }
   ],
   "source": [
    "trainX"
   ]
  },
  {
   "cell_type": "code",
   "execution_count": null,
   "id": "d22a790e",
   "metadata": {},
   "outputs": [],
   "source": []
  },
  {
   "cell_type": "code",
   "execution_count": 56,
   "id": "4b5239a1",
   "metadata": {},
   "outputs": [
    {
     "data": {
      "text/plain": [
       "array([], dtype=float64)"
      ]
     },
     "execution_count": 56,
     "metadata": {},
     "output_type": "execute_result"
    }
   ],
   "source": [
    "trainY"
   ]
  },
  {
   "cell_type": "code",
   "execution_count": 57,
   "id": "46293a14",
   "metadata": {},
   "outputs": [
    {
     "ename": "IndexError",
     "evalue": "tuple index out of range",
     "output_type": "error",
     "traceback": [
      "\u001b[1;31m---------------------------------------------------------------------------\u001b[0m",
      "\u001b[1;31mIndexError\u001b[0m                                Traceback (most recent call last)",
      "Cell \u001b[1;32mIn[57], line 2\u001b[0m\n\u001b[0;32m      1\u001b[0m model \u001b[38;5;241m=\u001b[39m Sequential()\n\u001b[1;32m----> 2\u001b[0m model\u001b[38;5;241m.\u001b[39madd(LSTM(\u001b[38;5;241m64\u001b[39m, activation\u001b[38;5;241m=\u001b[39m\u001b[38;5;124m'\u001b[39m\u001b[38;5;124mrelu\u001b[39m\u001b[38;5;124m'\u001b[39m, input_shape\u001b[38;5;241m=\u001b[39m(\u001b[43mtrainX\u001b[49m\u001b[38;5;241;43m.\u001b[39;49m\u001b[43mshape\u001b[49m\u001b[43m[\u001b[49m\u001b[38;5;241;43m1\u001b[39;49m\u001b[43m]\u001b[49m, trainX\u001b[38;5;241m.\u001b[39mshape[\u001b[38;5;241m2\u001b[39m]), return_sequences\u001b[38;5;241m=\u001b[39m\u001b[38;5;28;01mTrue\u001b[39;00m))\n\u001b[0;32m      3\u001b[0m model\u001b[38;5;241m.\u001b[39madd(LSTM(\u001b[38;5;241m32\u001b[39m, activation\u001b[38;5;241m=\u001b[39m\u001b[38;5;124m'\u001b[39m\u001b[38;5;124mrelu\u001b[39m\u001b[38;5;124m'\u001b[39m, return_sequences\u001b[38;5;241m=\u001b[39m\u001b[38;5;28;01mFalse\u001b[39;00m))\n\u001b[0;32m      4\u001b[0m model\u001b[38;5;241m.\u001b[39madd(Dropout(\u001b[38;5;241m0.2\u001b[39m))\n",
      "\u001b[1;31mIndexError\u001b[0m: tuple index out of range"
     ]
    }
   ],
   "source": [
    "model = Sequential()\n",
    "model.add(LSTM(64, activation='relu', input_shape=(trainX.shape[1], trainX.shape[2]), return_sequences=True))\n",
    "model.add(LSTM(32, activation='relu', return_sequences=False))\n",
    "model.add(Dropout(0.2))\n",
    "model.add(Dense(trainY.shape[1]))\n",
    "\n",
    "model.compile(optimizer='adam', loss='mse')\n",
    "model.summary()"
   ]
  },
  {
   "cell_type": "code",
   "execution_count": null,
   "id": "250a9694",
   "metadata": {},
   "outputs": [],
   "source": [
    "# fit the model\n",
    "history = model.fit(trainX, trainY, epochs=10, batch_size=64, validation_split=0.1, verbose=1)"
   ]
  },
  {
   "cell_type": "code",
   "execution_count": null,
   "id": "92367961",
   "metadata": {},
   "outputs": [],
   "source": [
    "plt.plot(history.history['loss'], label='Training loss')\n",
    "plt.plot(history.history['val_loss'], label='Validation loss')\n",
    "plt.legend()"
   ]
  },
  {
   "cell_type": "code",
   "execution_count": null,
   "id": "df6ecfd3",
   "metadata": {},
   "outputs": [],
   "source": [
    "import pandas as pd\n",
    "\n",
    "#Forecasting\n",
    "#Start with the last day in training date and predict future..\n",
    "n_future=180 #Redifining n_future to extend prediction dates beyond original n_future dates...\n",
    "forecast_period_dates = pd.date_range(list(train_dates)[-1], periods=n_future, freq='1d').tolist()"
   ]
  },
  {
   "cell_type": "code",
   "execution_count": null,
   "id": "f4c6ccc6",
   "metadata": {},
   "outputs": [],
   "source": [
    "forecast = model.predict(trainX[-n_future:])"
   ]
  },
  {
   "cell_type": "code",
   "execution_count": null,
   "id": "a0914beb",
   "metadata": {},
   "outputs": [],
   "source": [
    "forecast"
   ]
  },
  {
   "cell_type": "code",
   "execution_count": null,
   "id": "5624aac2",
   "metadata": {},
   "outputs": [],
   "source": [
    "forecast_copies = np.repeat(forecast, df_for_training.shape[1], axis=-1)"
   ]
  },
  {
   "cell_type": "code",
   "execution_count": null,
   "id": "5e45d5b8",
   "metadata": {},
   "outputs": [],
   "source": [
    "forecast_copies"
   ]
  },
  {
   "cell_type": "code",
   "execution_count": null,
   "id": "5ef33168",
   "metadata": {},
   "outputs": [],
   "source": [
    "y_pred_future = scaler.inverse_transform(forecast_copies)[:,0]"
   ]
  },
  {
   "cell_type": "code",
   "execution_count": null,
   "id": "3ba21aac",
   "metadata": {},
   "outputs": [],
   "source": [
    "y_pred_future"
   ]
  },
  {
   "cell_type": "code",
   "execution_count": null,
   "id": "fa5ada33",
   "metadata": {},
   "outputs": [],
   "source": [
    "# Convert timestamp to date\n",
    "forecast_dates = []\n",
    "for time_i in forecast_period_dates:\n",
    "    forecast_dates.append(time_i.date())"
   ]
  },
  {
   "cell_type": "code",
   "execution_count": null,
   "id": "ff560e47",
   "metadata": {},
   "outputs": [],
   "source": [
    "df_forecast = pd.DataFrame({'Date':np.array(forecast_dates), 'Qty':y_pred_future})\n",
    "df_forecast['Date']=pd.to_datetime(df_forecast['Date'])"
   ]
  },
  {
   "cell_type": "code",
   "execution_count": null,
   "id": "628ef2b2",
   "metadata": {},
   "outputs": [],
   "source": [
    "df_forecast"
   ]
  },
  {
   "cell_type": "code",
   "execution_count": null,
   "id": "ae7557fe",
   "metadata": {},
   "outputs": [],
   "source": [
    "plastic1"
   ]
  },
  {
   "cell_type": "code",
   "execution_count": null,
   "id": "a2a41a56",
   "metadata": {},
   "outputs": [],
   "source": [
    "original = plastic1[['EFFECTIVE DATE','yhat']]"
   ]
  },
  {
   "cell_type": "code",
   "execution_count": null,
   "id": "80535d40",
   "metadata": {},
   "outputs": [],
   "source": [
    "original['EFFECTIVE DATE'] = pd.to_datetime(original['EFFECTIVE DATE'])\n",
    "original = original.loc[original['EFFECTIVE DATE']>= '2021-11-01']"
   ]
  },
  {
   "cell_type": "code",
   "execution_count": null,
   "id": "afbef894",
   "metadata": {},
   "outputs": [],
   "source": [
    "sns.lineplot(original['EFFECTIVE DATE'],original['yhat'])\n"
   ]
  },
  {
   "cell_type": "code",
   "execution_count": null,
   "id": "6cad4b05",
   "metadata": {},
   "outputs": [],
   "source": [
    "sns.lineplot(df_forecast['Date'],original['yhat'])"
   ]
  },
  {
   "cell_type": "code",
   "execution_count": null,
   "id": "4c06fb84",
   "metadata": {},
   "outputs": [],
   "source": []
  },
  {
   "cell_type": "code",
   "execution_count": null,
   "id": "f97fc95f",
   "metadata": {},
   "outputs": [],
   "source": []
  }
 ],
 "metadata": {
  "kernelspec": {
   "display_name": "Python 3 (ipykernel)",
   "language": "python",
   "name": "python3"
  },
  "language_info": {
   "codemirror_mode": {
    "name": "ipython",
    "version": 3
   },
   "file_extension": ".py",
   "mimetype": "text/x-python",
   "name": "python",
   "nbconvert_exporter": "python",
   "pygments_lexer": "ipython3",
   "version": "3.9.15"
  }
 },
 "nbformat": 4,
 "nbformat_minor": 5
}
